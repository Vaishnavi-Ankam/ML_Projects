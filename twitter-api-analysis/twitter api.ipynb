{
 "cells": [
  {
   "cell_type": "code",
   "execution_count": 1,
   "metadata": {},
   "outputs": [
    {
     "name": "stdout",
     "output_type": "stream",
     "text": [
      "Requirement already satisfied: tweepy in /Library/Frameworks/Python.framework/Versions/3.8/lib/python3.8/site-packages (4.10.0)\n",
      "Requirement already satisfied: requests<3,>=2.27.0 in /Library/Frameworks/Python.framework/Versions/3.8/lib/python3.8/site-packages (from tweepy) (2.28.0)\n",
      "Requirement already satisfied: requests-oauthlib<2,>=1.2.0 in /Library/Frameworks/Python.framework/Versions/3.8/lib/python3.8/site-packages (from tweepy) (1.3.0)\n",
      "Requirement already satisfied: oauthlib<4,>=3.2.0 in /Library/Frameworks/Python.framework/Versions/3.8/lib/python3.8/site-packages (from tweepy) (3.2.0)\n",
      "Requirement already satisfied: urllib3<1.27,>=1.21.1 in /Library/Frameworks/Python.framework/Versions/3.8/lib/python3.8/site-packages (from requests<3,>=2.27.0->tweepy) (1.25.10)\n",
      "Requirement already satisfied: certifi>=2017.4.17 in /Library/Frameworks/Python.framework/Versions/3.8/lib/python3.8/site-packages (from requests<3,>=2.27.0->tweepy) (2022.9.14)\n",
      "Requirement already satisfied: charset-normalizer~=2.0.0 in /Library/Frameworks/Python.framework/Versions/3.8/lib/python3.8/site-packages (from requests<3,>=2.27.0->tweepy) (2.0.12)\n",
      "Requirement already satisfied: idna<4,>=2.5 in /Library/Frameworks/Python.framework/Versions/3.8/lib/python3.8/site-packages (from requests<3,>=2.27.0->tweepy) (2.10)\n"
     ]
    }
   ],
   "source": [
    "!pip install tweepy\n",
    "from tweepy.streaming import Stream\n",
    "from tweepy import OAuthHandler\n",
    "from tweepy import Stream\n",
    "import tweepy"
   ]
  },
  {
   "cell_type": "code",
   "execution_count": 8,
   "metadata": {},
   "outputs": [
    {
     "name": "stdout",
     "output_type": "stream",
     "text": [
      "Name: tweepy\n",
      "Version: 4.10.0\n",
      "Summary: Twitter library for Python\n",
      "Home-page: https://www.tweepy.org/\n",
      "Author: Joshua Roesslein\n",
      "Author-email: tweepy@googlegroups.com\n",
      "License: MIT\n",
      "Location: /Library/Frameworks/Python.framework/Versions/3.8/lib/python3.8/site-packages\n",
      "Requires: oauthlib, requests, requests-oauthlib\n",
      "Required-by: \n",
      "Note: you may need to restart the kernel to use updated packages.\n"
     ]
    }
   ],
   "source": [
    "pip show tweepy"
   ]
  },
  {
   "cell_type": "code",
   "execution_count": 2,
   "metadata": {},
   "outputs": [],
   "source": [
    "access_token = \"3163815032-eptuB8jCIxBdV0QhLXPaYBrgTXgZzFYpHcKj21X\"\n",
    "access_token_secret = \"2NnUGPTOIJZoirEoRYKLGQf21EgWrSke3BWXP7QZcFfJw\"\n",
    "consumer_key = \"dURKSU0SUsH5M960w6PSNTIpq\"\n",
    "consumer_secret = \"5hEXwbJxqjfnNkVvecHIGVRei3DHzsbRH4oCN3uoANv1Lzbudx\""
   ]
  },
  {
   "cell_type": "code",
   "execution_count": 3,
   "metadata": {},
   "outputs": [],
   "source": [
    "#this is a basic listener that just prints received tweets to stdout\n",
    "class StdOutListener(Stream):\n",
    "    def on_data(self, data,consumer_key,consumer_secret,access_token_secret):\n",
    "        self.data=data\n",
    "        self.consumer_key=consumer_key\n",
    "        self.consumer_secret=consumer_secret\n",
    "        self.access_token_secret=access_token_secret\n",
    "        print (data)\n",
    "        return True\n",
    "    \n",
    "    def on_error(self, status):\n",
    "        print (status)"
   ]
  },
  {
   "cell_type": "code",
   "execution_count": 7,
   "metadata": {},
   "outputs": [
    {
     "ename": "AttributeError",
     "evalue": "'API' object has no attribute 'id'",
     "output_type": "error",
     "traceback": [
      "\u001b[0;31m---------------------------------------------------------------------------\u001b[0m",
      "\u001b[0;31mAttributeError\u001b[0m                            Traceback (most recent call last)",
      "\u001b[0;32m<ipython-input-7-6a7ff1fc60ce>\u001b[0m in \u001b[0;36m<module>\u001b[0;34m\u001b[0m\n\u001b[1;32m     10\u001b[0m \u001b[0mapi\u001b[0m \u001b[0;34m=\u001b[0m \u001b[0mtweepy\u001b[0m\u001b[0;34m.\u001b[0m\u001b[0mAPI\u001b[0m\u001b[0;34m(\u001b[0m\u001b[0mauth\u001b[0m\u001b[0;34m)\u001b[0m\u001b[0;34m\u001b[0m\u001b[0;34m\u001b[0m\u001b[0m\n\u001b[1;32m     11\u001b[0m \u001b[0;34m\u001b[0m\u001b[0m\n\u001b[0;32m---> 12\u001b[0;31m \u001b[0mprint\u001b[0m\u001b[0;34m(\u001b[0m\u001b[0mapi\u001b[0m\u001b[0;34m.\u001b[0m\u001b[0mid\u001b[0m\u001b[0;34m)\u001b[0m\u001b[0;34m\u001b[0m\u001b[0;34m\u001b[0m\u001b[0m\n\u001b[0m\u001b[1;32m     13\u001b[0m \u001b[0;34m\u001b[0m\u001b[0m\n\u001b[1;32m     14\u001b[0m \u001b[0;31m#This line filters Twitter STreams to capture data by the keyword\u001b[0m\u001b[0;34m\u001b[0m\u001b[0;34m\u001b[0m\u001b[0;34m\u001b[0m\u001b[0m\n",
      "\u001b[0;31mAttributeError\u001b[0m: 'API' object has no attribute 'id'"
     ]
    }
   ],
   "source": [
    "access_token = \"3163815032-eptuB8jCIxBdV0QhLXPaYBrgTXgZzFYpHcKj21X\"\n",
    "access_token_secret = \"2NnUGPTOIJZoirEoRYKLGQf21EgWrSke3BWXP7QZcFfJw\"\n",
    "consumer_key = \"dURKSU0SUsH5M960w6PSNTIpq\"\n",
    "consumer_secret = \"5hEXwbJxqjfnNkVvecHIGVRei3DHzsbRH4oCN3uoANv1Lzbudx\"\n",
    "#This handles Twitter auth. and the connection to twitter ac\n",
    "l = StdOutListener(Stream,consumer_key,consumer_secret,access_token_secret)\n",
    "auth = OAuthHandler(consumer_key, consumer_secret)\n",
    "auth.set_access_token(access_token, access_token_secret)\n",
    "stream = Stream(consumer_key, consumer_secret,access_token,access_token_secret)\n",
    "api = tweepy.API(auth)\n",
    "\n",
    "print(api.id)\n",
    "\n",
    "#This line filters Twitter STreams to capture data by the keyword\n",
    "#stream.filter (track = ['python', 'javascript', 'ruby'])"
   ]
  },
  {
   "cell_type": "code",
   "execution_count": 6,
   "metadata": {},
   "outputs": [
    {
     "ename": "TypeError",
     "evalue": "'API' object is not callable",
     "output_type": "error",
     "traceback": [
      "\u001b[0;31m---------------------------------------------------------------------------\u001b[0m",
      "\u001b[0;31mTypeError\u001b[0m                                 Traceback (most recent call last)",
      "\u001b[0;32m<ipython-input-6-4f2148824935>\u001b[0m in \u001b[0;36m<module>\u001b[0;34m\u001b[0m\n\u001b[0;32m----> 1\u001b[0;31m \u001b[0muser\u001b[0m \u001b[0;34m=\u001b[0m \u001b[0mapi\u001b[0m\u001b[0;34m(\u001b[0m\u001b[0;34m)\u001b[0m\u001b[0;34m\u001b[0m\u001b[0;34m\u001b[0m\u001b[0m\n\u001b[0m\u001b[1;32m      2\u001b[0m \u001b[0;34m\u001b[0m\u001b[0m\n\u001b[1;32m      3\u001b[0m \u001b[0mprint\u001b[0m\u001b[0;34m(\u001b[0m\u001b[0;34m'NAme: '\u001b[0m \u001b[0;34m+\u001b[0m \u001b[0muser\u001b[0m\u001b[0;34m.\u001b[0m\u001b[0mname\u001b[0m\u001b[0;34m)\u001b[0m\u001b[0;34m\u001b[0m\u001b[0;34m\u001b[0m\u001b[0m\n\u001b[1;32m      4\u001b[0m \u001b[0mprint\u001b[0m\u001b[0;34m(\u001b[0m\u001b[0;34m'Location: '\u001b[0m \u001b[0;34m+\u001b[0m \u001b[0muser\u001b[0m\u001b[0;34m.\u001b[0m\u001b[0mlocation\u001b[0m\u001b[0;34m)\u001b[0m\u001b[0;34m\u001b[0m\u001b[0;34m\u001b[0m\u001b[0m\n\u001b[1;32m      5\u001b[0m \u001b[0mprint\u001b[0m\u001b[0;34m(\u001b[0m\u001b[0;34m'Friends: '\u001b[0m \u001b[0;34m+\u001b[0m \u001b[0mstr\u001b[0m\u001b[0;34m(\u001b[0m\u001b[0muser\u001b[0m\u001b[0;34m.\u001b[0m\u001b[0mfriends_count\u001b[0m\u001b[0;34m)\u001b[0m\u001b[0;34m)\u001b[0m\u001b[0;34m\u001b[0m\u001b[0;34m\u001b[0m\u001b[0m\n",
      "\u001b[0;31mTypeError\u001b[0m: 'API' object is not callable"
     ]
    }
   ],
   "source": [
    "user = api()\n",
    "\n",
    "print('NAme: ' + user.name)\n",
    "print('Location: ' + user.location)\n",
    "print('Friends: ' + str(user.friends_count))"
   ]
  },
  {
   "cell_type": "code",
   "execution_count": 17,
   "metadata": {},
   "outputs": [],
   "source": [
    "tweets =  api.user_timeline(screen_name='narendramodi',\n",
    "                  count=200, tweet_mode = \"extended\")\n",
    "datet = []\n",
    "for tweet in tweets:\n",
    "    datet.append(tweet.created_at)\n",
    "    #empty array\n",
    "tmp = []\n",
    "\n",
    "tweets_for_csv = [tweet.full_text for tweet in tweets]  #CSV file created\n",
    "for j in tweets_for_csv:\n",
    "    tmp.append(j)"
   ]
  },
  {
   "cell_type": "code",
   "execution_count": 18,
   "metadata": {
    "collapsed": true
   },
   "outputs": [
    {
     "data": {
      "text/plain": [
       "[\"Pictures from Amul's Chocolate Plant at Anand, Gujarat. @Amul_Coop https://t.co/Ldr15EAylY\",\n",
       " 'For every Indian, 31st October is a special day, when we pay tributes to the great Sardar Patel.\\n\\nI urge you all to think about how to mark Sardar Patel’s Jayanti including the ‘Run for Unity’ which has been gaining popularity over the last few years. #MannKiBaat https://t.co/SWAhPUKLjV',\n",
       " 'Value addition enhances prosperity among farmers. \\n\\nUrged our hardworking farmers to focus on value addition and explained the benefits of doing so. https://t.co/CGA9pigORS',\n",
       " 'Gujarat and the cooperative sector have a strong link, thanks to the work of Sardar Patel. \\n\\nSardar Patel’s association with Amul is well known but long before that, as the head of the municipality of Ahmedabad he worked extensively on cooperative housing. https://t.co/vfeZT6pKmY',\n",
       " 'As a brand, Amul is both admired and respected not only in India but also internationally. \\n\\nIt is synonymous with quality, and has empowered several people associated with it. https://t.co/f5iCWCdZPJ',\n",
       " 'Delighted to be in Anand, Gujarat, where development projects worth over Rs. 1100 crore were inaugurated or their foundation stones were laid. \\n\\nThese projects are associated with the dairy, food processing, agriculture and energy sectors. https://t.co/7TlRTuqSM2 https://t.co/zDmLQxvzmb',\n",
       " \"2nd October is special this year, as it marks the start of Gandhi Ji’s 150th birth anniversary celebrations. \\n\\nSpoke on Bapu, a 'Constructive Programme' he penned in the 40's and, how inspired by his ideals we can enhance prosperity in the lives of many Indians. #MannKiBaat https://t.co/0Qkx1XPPWV\",\n",
       " 'A Divyang brother from Rajasthan called me, expressing joy on the Swachh Bharat Mission. I will always remember his kind words and blessings #MannKiBaat https://t.co/k2rvVbj1Wt',\n",
       " 'This October, the National Human Rights Commission completes 25 years. \\n\\nSpoke about the rich contribution of NHRC in protecting the rights and dignity of the people. Also spoke about how the our value systems give immense importance to safeguarding human rights. #MannKiBaat https://t.co/Pe7iaibOkR',\n",
       " 'During #MannKiBaat today, talked at length about the valour of the Indian Air Force, their stellar role in protecting the nation as well as their invaluable help during times of disasters. https://t.co/VAP6x7DoAH',\n",
       " 'Speaking on a wide range of subjects during #MannKiBaat. Tune in. https://t.co/8iDmYNUUg3',\n",
       " 'The #MannKiBaat programme begins shortly. Tune in here. https://t.co/FT9rjXtMni',\n",
       " 'RT @MEAIndia: Address of EAM @SushmaSwaraj at the 73rd Session of the #UNGA available at https://t.co/m5edsFf6DQ. https://t.co/TKheozLAca',\n",
       " 'RT @MEAIndia: EAM @SushmaSwaraj : संस्कृत के एक श्लोक के साथ मैं अपनी बात समाप्त करूँगी।\\nसर्वेशां स्वस्तिर भवतु\\nसर्वेशां शांति भवतु\\nसर्वे…',\n",
       " 'RT @MEAIndia: EAM @SushmaSwaraj at the #UNGA : The biggest challenge of our era comes from the existential threats of climate change and te…',\n",
       " 'Tune in tomorrow at 11 AM. #MannKiBaat https://t.co/wGnAdwY1Bd',\n",
       " 'Glad to see the tremendous enthusiasm towards Ayushman Bharat among all sections of society. \\n\\nWe are doing everything possible to provide top quality healthcare to the poor. https://t.co/VtKP8W5GVx',\n",
       " 'While interacting with BJP Karyakartas in Bilaspur, talked at length about how the Central and Chhattisgarh Governments have initiated a series of development measures in Maoist affected areas, which have benefitted several citizens. https://t.co/0jucTjK0rA',\n",
       " 'Talked at length about the measures taken for the welfare of the middle class while interacting with a BJP Karyakarta from Uttar Pradesh’s Basti. https://t.co/vePlbNaQ4r',\n",
       " 'Had a wonderful interaction with @BJP4India Karyakartas from Bilaspur, Basti, Dhanbad, Chittorgarh and Mandsaur. Here are the highlights. https://t.co/WSFkTwOrKc',\n",
       " 'Boosting infrastructure, providing financial assistance to institutions, building new world class centres of education and more.\\n\\nHere are some of the steps being taken by the Centre in the education sector. https://t.co/Geqq6k25nv',\n",
       " 'Encouraging innovation among young India. https://t.co/ymXyMlnhlr',\n",
       " 'Three great Indians of the 20th century- Dr. Babasaheb Ambedkar Ji, Pandit Deendayal Upadhyaya Ji and Dr. Ram Manohar Lohia emphasised on the power of education. https://t.co/kkRL3DEy9l',\n",
       " 'जब पुनरुत्थान के बारे में सोचता हूं तो मन मस्तिष्क में पहली छवि स्वामी विवेकानंद जी की बनती है।\\n\\nउन्होंने शिक्षा के 3 स्तंभ दिए - जीवन निर्माण, मानवता और चरित्रगठन - जो आज भी प्रासंगिक है।\\n\\nइन विचारों से प्रेरित होकर मैंने एक और स्तंभ जोड़ा है - इनोवेशन। https://t.co/qNyL4M4B4s',\n",
       " \"Sharing my remarks at the 'Conference on Academic Leadership on Education for Resurgence' held in Delhi. https://t.co/GO2XBvFftn https://t.co/bS9j6BdFsQ\",\n",
       " 'Interacting with hardworking @BJP4India Karyakartas of 5 Lok Sabha seats. Watch. https://t.co/C9Vsqybfxs',\n",
       " 'Looking forward to interacting with BJP Karyakartas from Bilaspur, Basti, Dhanbad, Chittorgarh and Mandsaur Lok Sabha seats. \\n\\nThe interaction, which begins at 4:30 this evening, can be watched on the ‘Narendra Modi Mobile App.’ #MeraBoothSabseMazboot https://t.co/a6yqU8dhnj',\n",
       " \"At 10 AM this morning, I will inaugurate the 'Conference on Academic Leadership on Education for Resurgence' in Delhi. This is a commendable effort aimed at further strengthening our education system. https://t.co/N4f0w4IxsI\",\n",
       " \"At Jodhpur's Konark War Memorial, paid homage to the brave soldiers who protect our nation. \\n\\nIndia will always be grateful to our armed forces. https://t.co/6SqjChxFLJ\",\n",
       " 'Today in Jodhpur, I attended the Combined Commanders’ Conference.\\n\\nAlso inaugurated the Parakram Parv, through which we express gratitude to our armed forces for their invaluable contribution to our nation. https://t.co/CAs3fIbVLd',\n",
       " 'This video makes me happy- because of the stupendous efforts of the @ITBP_official team. \\n\\nBut, it is disappointing to see our mountains and lakes being dirtied like this. \\n\\nLet us pledge to keep our mountains and lakes clean. https://t.co/96y10EYZiO',\n",
       " 'Pragati is a great example of how technology can bring a positive difference in the lives of many. https://t.co/8XGiDW7zKp',\n",
       " 'Happy to see this. India needs cleaner coasts and the recent rise in cleanliness activities in coastal areas is a positive step. https://t.co/U4lagx76xW',\n",
       " 'Great effort! Art is a fantastic means to spread awareness on cleanliness and I am glad children are doing this. My best wishes to them. https://t.co/0zSs53YTkE',\n",
       " 'Respected Lata Didi, best wishes to you on your birthday. Your exceptional work, spanning decades has endeared you to crores of Indians. You have always been passionate about our country’s development. May you lead a long life filled with good health. @mangeshkarlata',\n",
       " \"शहीद-ए-आजम भगत सिंह को उनकी जयंती पर शत्-शत् नमन।\\n\\nShaheed Bhagat Singh's valour motivates millions of Indians across generations. I bow to this proud son of India on his Jayanti and join my fellow citizens in remembering his heroic deeds that contributed to India’s freedom.\",\n",
       " 'Saddened by the demise of former Gujarat Minister Shri Manoharsinh Jadeja Ji. Respected across party lines, he made a mark as a dedicated legislator and good administrator. My thoughts are with his family and well wishers in this sad hour.',\n",
       " 'Spoke to @abhilashtomy and enquired about his wellbeing. Every Indian is praying for his quick recovery. I also compliment the teams that were involved in his rescue. \\n\\nI have fond memories of my meeting with Abhilash, when he came with the team of INSV Tarini. https://t.co/Yefo9l4Ksu',\n",
       " 'The Airport is an inspiration for several other airports in how we can leverage the power of solar energy for a better tomorrow.',\n",
       " 'Delighted that Cochin International Airport’s remarkable usage of sustainable energy has been recognised and the Airport is a proud recipient of the @UN ‘Champions of the Earth Awards.’',\n",
       " 'I congratulate President @EmmanuelMacron on getting the @UN ‘Champions of the Earth Award.’ The honour is a fitting recognition for his work towards creating a cleaner and greener tomorrow. His role in strengthening the International Solar Alliance is also extremely commendable.',\n",
       " 'I accept, with all humility the ‘Champions of the Earth Award’ and thank the @UN for conferring this honour. \\n\\nThis Award is not for an individual but for the Indian tradition and value systems of living in harmony with nature and protecting the environment. https://t.co/mq785AozYC',\n",
       " 'RT @Neiphiu_Rio: On #WorldTourismDay I extend my warm welcome to everyone, to visit #Nagaland the #LandOfFestivals.Come &amp; witness the renow…',\n",
       " 'RT @VasundharaBJP: Greetings on #WorldTourismDay. Home to heritage and culture centuries old, #Rajasthan’s is a timeless journey. Explore t…',\n",
       " 'RT @PemaKhanduBJP: On #WorldTourismDay I wish to thank @BeingSalmanKhan on behalf of Arunachali people for this pro-bono video with our ado…',\n",
       " 'RT @tsrawatbjp: विश्व पर्यटन दिवस पर आध्यात्म, एडवेंचर,वाइल्ड सफारी, तीर्थाटन,भक्ति व योगशक्ति की असीम अनुभूति के लिए देवभूमि उत्तराखंड पधा…',\n",
       " 'RT @mlkhattar: Haryana, the abode of God, is a land of culture, diversity &amp; beauty. On #WorldTourismDay I invite all my countrymen &amp; people…',\n",
       " 'RT @jairamthakurbjp: विश्व पर्यटन दिवस पर देश एवं प्रदेशवासियों को हार्दिक बधाई एवं शुभकामनाएं। हमारी सरकार ने हिमाचल में पर्यटन को बढ़ावा…',\n",
       " 'RT @Dev_Fadnavis: I invite one and all to Maharashtra on #WorldTourismDay !\\nCome,enjoy the beautiful forests, mountains, beaches, forts &amp; e…',\n",
       " 'RT @ChouhanShivraj: विश्व पर्यटन दिवस की हार्दिक शुभकामनाएँ।\\nपर्यटन माध्यम है हमारी कला, संस्कृति, धरोहर व परंपराओं से जुड़ कर आनंद व ज्ञान…',\n",
       " 'RT @NBirenSingh: World Tourism Day 2018 held at Epudhou Marjing Complex, Heingang, Imphal East today. Development of tourism will bring a s…',\n",
       " 'RT @drramansingh: From flora to fauna, scenic natural beauty to majestic waterfalls, age old tribal culture to historic monuments, Chhattis…',\n",
       " 'RT @sarbanandsonwal: From dense forests to lush green tea gardens, magnificent rivers to unique biodiversity, historical monuments to\\rindig…',\n",
       " 'RT @dasraghubar: #WorldTourismDay पर हार्दिक शुभकामनाएं। झारखण्ड प्रकृति की गोद में बसा है। कल-कल बहती नदियां, घने जंगल, धर्म स्थल, वन्य प्…',\n",
       " 'RT @capt_amarinder: Punjab is home to lively, hospitable &amp; dynamic people. This #WorldTourismDay, I invite all youngsters to come to Punjab…',\n",
       " 'RT @Naveen_Odisha: The abundance that #Odisha offers appeals to almost every plausible form of tourism; unlocking its vast potential and fu…',\n",
       " 'RT @MamataOfficial: Today is #WorldTourismDay. I welcome you all to come and #ExperienceBengal. From the Himalayas to the sea, from the for…',\n",
       " 'RT @CMOKerala: Hello, World! Kerala is now open. Come visit us. #WorldTourismDay https://t.co/VxG1oeKG43',\n",
       " 'Joined the 29th Pragati session earlier today. We reviewed aspects relating to telecom, railways, roads, Pradhan Mantri Khanij Kshetra Kalyan Yojana among other issues. Here are the highlights. https://t.co/4BpiqIqpxT https://t.co/Ci1xrTeR5U',\n",
       " 'Spoke to Himachal Pradesh CM @jairamthakurbjp Ji and Punjab CM @capt_amarinder Singh Ji regarding the flood situation in Himachal Pradesh and Punjab. \\n\\nAssured all possible support from the Centre in mitigating the situation arising due to heavy rains and floods.',\n",
       " 'Dear @imVkohli, congratulations on being conferred the Khel Ratna. As a batsman and Captain, you have brought immense joy for the nation. Your popularity among young India is also tremendous. Best wishes for your future endeavours.',\n",
       " 'Ms. S. Mirabai Chanu has been distinguishing herself in many sports tournaments, both in India and across the world. Thanks to her skills and dedication, this talented weightlifter is an inspiration for all sports lovers. Congratulations to her on being conferred the Khel Ratna.',\n",
       " 'I congratulate all the athletes and coaches who have been conferred the National Sports Awards. These awards are the result of years of hardwork, dedication and excellence on the field. India is phenomenally proud of our sportspersons!',\n",
       " 'Greetings to our former Prime Minister, Dr. Manmohan Singh Ji on his birthday. I pray for Dr. Singh’s long life and good health.',\n",
       " 'Sharing my speech at the Karyakarta Mahakumbh in Bhopal. https://t.co/LBWVXGiyud https://t.co/ufFDQyWu49',\n",
       " 'It has been 17 years and counting, the Congress has called me all sorts of names. The have heaped abuses, even mocked my poverty. \\n\\nThe more they abuse me, the more the Lotus will shine! https://t.co/POrQYUThDI',\n",
       " 'बीजेपी विकास के मुद्दे पर चुनाव में उतरेगी। \\n\\nविपक्ष समाज को तोड़ने की कोशिश कर रहा है, झूठ फैला रहा है। उनको उनका रास्ता मुबारक।\\n\\nभाजपा राष्ट्र निर्माण के लिए हमेशा काम करेगी। https://t.co/AcFmdEAa30',\n",
       " 'वोट बैंक की राजनीति में डूबी कांग्रेस ने सत्ता तो खोयी ही, साथ में संतुलन भी खो दिया है। \\n\\nअब विदेश में भी गठबंधन के साथी ढूंढ़ रहे हैं। https://t.co/OymPMfOpE0',\n",
       " 'We have also lost elections but we have never questioned the electoral process. We accepted the results, introspected and emerged stronger. \\n\\nCongress refuses to do so which is why their presence across India is miniscule. People of India detest the arrogance of the Congress. https://t.co/vSBVTHJJpB',\n",
       " 'वोट बैंक की राजनीति ने समाज को तबाह कर दिया। \\n\\nअगर देश को बचाना है तो वोटबैंक की राजनीति से इसे मुक्त करना होगा। https://t.co/zFYiTJkySs',\n",
       " 'The @BJP4India family is grateful to all our leaders and Karyakartas who have built the party brick by brick. Their stupendous efforts have endeared the BJP to people across India. https://t.co/EZaMkHQL05',\n",
       " \"पंडित दीनदयाल उपाध्याय जी का 'एकात्म मानववाद' का मंत्र लाखों कार्यकर्ताओं को हमारे नागरिकों के कल्याण के लिए और राष्ट्र के विकास के लिए कार्य करने की प्रेरणा देता है। https://t.co/BXzFhgmVGF\",\n",
       " 'भोपाल के कार्यकर्ता महाकुंभ की कुछ तस्वीरें। #KaryakartaMahakumbh https://t.co/n1nDxmGu6H',\n",
       " 'Looking forward to interacting with the hardworking Karyakartas of @BJP4MP at the #KaryakartaMahakumbh in Bhopal today. https://t.co/ZxPSqlIoxJ',\n",
       " 'Just doing my work and doing everything possible to do justice to the faith the people of India have put. \\n\\nOur only aim, vision and mission is development! https://t.co/onivXQXzFx',\n",
       " 'Thank you! I am confident the Pakyong Airport will draw even more tourists to Sikkim and improve the local economy. https://t.co/ccyRCOTVM3',\n",
       " 'Thanks Abhinav! I appreciate your optimism. As for healthcare, I am personally committed to ensuring the poor, neo-middle and middle classes get access to healthcare that is of top quality and is affordable. https://t.co/qmKk6Z5njB',\n",
       " 'Thank you for the kind words. The scenery was so beautiful that I could not resist capturing some images and sharing them. https://t.co/ApIC3JgqRc',\n",
       " 'It did startle me that for almost seven long decades, a place like Sikkim did not have air connectivity. Glad that this has been corrected now. https://t.co/NhsEHOXzk6',\n",
       " 'पंडित दीनदयाल उपाध्याय जी की जन्म-जयंती पर उन्हें कोटि-कोटि नमन। \\n\\nTributes to Pandit Deendayal Upadhyaya Ji on his Jayanti. https://t.co/Vu6t19s7DX',\n",
       " 'Addressed a public meeting in Pakyong, Sikkim. Talked about the numerous steps being taken for the transformation of the Northeast particularly towards improving connectivity, infrastructure, agriculture among other areas. Sharing my speech. https://t.co/JQNGGIFNmx https://t.co/ad2l0c9dnn',\n",
       " 'In the Pakyong Airport, Sikkim gets its first airport and India its one hundredth. Today is a momentous day for the aviation sector. \\n\\nDelighted to have inaugurated the airport in Sikkim. Come, visit Sikkim and experience the beauty and hospitality of the state! https://t.co/fZ6ZxIitRj',\n",
       " 'Serene and splendid! \\n\\nClicked these pictures on the way to Sikkim. Enchanting and incredible! #IncredibleIndia https://t.co/OWKcc93Sb1',\n",
       " 'Along with affordable healthcare, the Government of India is also focussing on preventive healthcare. \\n\\nEmphasis is also being given towards enhancing human resource capabilities in the healthcare sector. https://t.co/4G6rtQv7HO',\n",
       " 'Expensive healthcare adversely affects the poor. Through PMJAY-Ayushman Bharat, we want to strengthen the hands of the poor and stand shoulder to shoulder with them in pursuit of good health. \\n \\nThat is why the scope of PMJAY-Ayushman Bharat is extensive.  https://t.co/LEvVjO0Nnz',\n",
       " 'Glad that #AyushmanBharat, one of the largest healthcare initiatives globally, is associated with two greats- Dr. Babasaheb Ambedkar and Pandit Deendayal Upadhyaya. \\n\\nOn Ambedkar Jayanti, wellness centres were launched and just before Deendayal Ji’s Jayanti, PMJAY begins. https://t.co/9svdAvFOY7',\n",
       " 'The launch of PMJAY- #AyushmanBharat will have a positive impact on the lives of 50 crore people of India. \\n \\nSuch an initiative is unparalleled in terms of scale and extent. It shows our unwavering commitment to create a healthy India. https://t.co/ju6TK2pHrl',\n",
       " 'After the programme in Jharkhand I will leave for Sikkim. \\n\\nIn Sikkim, I will be inaugurating the Pakyong Airport tomorrow, which will improve connectivity and benefit the people of Sikkim.',\n",
       " 'I will be in Ranchi to mark the launch of PMJAY- Ayushman Bharat. During the programme, foundation stones for medical colleges in Chaibasa and Koderma will be laid. Health and wellness centres will also be inaugurated. \\n\\nWe are committed to building a healthy and fit India!',\n",
       " 'Today is a historic day for India! We are launching the Pradhan Mantri Jan Arogya Yojana (PMJAY), which is a big step towards providing good quality and accessible healthcare to the poor of India. Over 10 crore families will benefit from this scheme.',\n",
       " 'Addressed a massive public meeting in @JanjgirDist. Talked at length about the efforts of the Central Government and the Chhattisgarh Government towards the welfare of the state’s farmers, youth and poor. Here is my speech. https://t.co/6zgmUzyzQI https://t.co/LxwWfy1QG1',\n",
       " 'Today Odisha got its second airport in Veer Surendra Sai Airport at Jharsuguda. It is a matter of immense joy for the state and I hope it enhances connectivity in the region. https://t.co/6mW4rjRiLS',\n",
       " \"Creating a better future for Odisha's Yuva Shakti. https://t.co/PBa4OGVbAM\",\n",
       " 'Sharing my speech at the public meeting in Jharsuguda, Odisha.\\nhttps://t.co/hhE1GCJLwD',\n",
       " 'The Government of India is fully committed to the social empowerment of  every Indian. https://t.co/8eBWzexGda',\n",
       " 'The NDA Government is unwavering in its commitment to uplift the lives of the poor and the marginalised. \\n\\nHappy to see my sisters and brothers of Odisha benefitting due to various schemes and initiatives of the Central Government. https://t.co/VaaHv8KTst',\n",
       " 'Like other fertilizer plants across India, the plant in Talcher did not receive adequate attention. \\n\\nThe NDA Government has been at the forefront of reviving fertilizer plants thus benefitting the sector and boosting job opportunities for our Yuva Shakti. https://t.co/LuJNokO0LX',\n",
       " 'To come to Odisha is always a delight. This is a land blessed with immense natural beauty. \\n\\nIt is also home to brave freedom fighters, whose courage and patriotism inspires us all. https://t.co/Pg4MFvYZDq',\n",
       " 'I thank the people of Talcher for the exceptional support. https://t.co/uSQ0Do92hy',\n",
       " 'Attended the programme to mark the starting of work to revive the fertilizer plant in Talcher. \\n\\nThe failure to save this plant signifies the failure of those who ruled India for 60 years. Now, this plant will showcase the success of the new work culture of new India. https://t.co/TRsZBxXpSa',\n",
       " 'Birthday greetings to Sikkim CM Shri Pawan Chamling Ji. For over two decades he’s been tirelessly working for Sikkim’s growth. I pray for his long and healthy life. @pawanchamling5',\n",
       " 'Glad to be visiting Chhattisgarh tomorrow. I shall be in Janjgir Champa where I will lay the foundation stone for highway projects and a railway line. I would also visit exhibitions on handloom and agriculture, sectors where Chhattisgarh has done well under @drramansingh Ji.',\n",
       " 'Various projects including the Garjanbahal coal mines and the Jharsuguda-Barapali-Sardega rail link will be dedicated to the nation. The projects in Odisha will benefit the energy sector and enhance connectivity.',\n",
       " 'I look forward to being with my sisters and brothers of Odisha tomorrow. I would visit Talcher to join the programme marking the commencement of work in the Talcher Fertilizer Plant. I will also be in Jharsuguda to inaugurate the local airport.',\n",
       " 'Excellent! Efforts such as these will go a long way in ensuring cleaner cities. https://t.co/B8BLNL35Sb',\n",
       " 'ASHA workers do so much for India. It is important to encourage and appreciate them, which we are doing. https://t.co/66gSaFFwTh',\n",
       " 'अब भारत में कोई VIP नहीं। यह EPI का जमाना है - Every Person is Important. https://t.co/wJ3fTLHl6z',\n",
       " 'अनुपम, जब मैं अपने लोगों के बीच यात्रा करता हूं और मिलना-जुलना होता है तो मेरे भीतर की ऊर्जा कई गुना बढ़ जाती है। आखिर देश का प्रधान सेवक भी तो सवा सौ करोड़ देशवासियों में से ही एक है। https://t.co/QXUn2iLzQj',\n",
       " 'लातेहार के भाइयों और बहनों को बधाई। https://t.co/7NaQFlxrTR',\n",
       " 'आपको और हिमांशु को बधाई। https://t.co/86KsaG4RHR',\n",
       " 'अजय जी, स्वच्छता अभियान अगर जन आंदोलन में बदला है तो ये आप जैसे कर्मठ स्वच्छाग्रहियों के परिश्रम का ही परिणाम है। https://t.co/Y8MM6X0hLk',\n",
       " 'आप जैसे स्वच्छाग्रहियों के अथक परिश्रम से हम पूज्य बापू के स्वच्छ भारत के सपनों को पूर्ण करने में सफल होंगे। https://t.co/WZBup6X7bX',\n",
       " 'We have fond memories of his great friendship for India and his successful state visit in March this year. https://t.co/m6IHEuXPvb',\n",
       " 'Deepest and heartfelt condolences to the Party, nation and people of Vietnam, and to the family of Member of the Politburo and President of the Socialist Republic of Vietnam H.E. Mr. Trần Dai Quang. https://t.co/ox4WRSDEA8',\n",
       " 'The #MannKiBaat programme this month will take place on 30th. I request you all to share your thoughts and ideas for the same. Do so on the ‘Narendra Modi Mobile App’ or dial 1800-11-7800 and record your message. You can also write on the MyGov Open Forum. https://t.co/ywdm0HQD2E',\n",
       " 'Dear @ajaymaken Ji, I pray for your good health and wellbeing. https://t.co/qSWrS6CuAK',\n",
       " 'The upcoming convention centre will make India a hub for various meetings, conventions and conferences. This will lead to more opportunities for our industry and boost the tourism sector as well. Sharing my remarks during the programme today. https://t.co/uThH6RThxN',\n",
       " 'Travelled on the Delhi Metro to Dwarka, and on the way back. \\n\\nI had gone there to lay the foundation stone for a state of the art convention centre. Here are pictures from the Metro. https://t.co/3dCS2JHnQQ',\n",
       " 'Had an excellent interaction with ASHA workers from all over the country. It was wonderful to know about their life journeys and the inspiring work they do. https://t.co/d7NA2QYonV https://t.co/VvcR34GisS',\n",
       " \"Manipur's efforts towards cleanliness are commendable. Under your leadership the state is scaling new heights of progress. Best wishes to you and your team. @NBirenSingh https://t.co/25UXy4AdO0\",\n",
       " 'Achyuta Ji, I thank the Kalinga Institute of Social Sciences for the good wishes. \\n\\nI would also like to appreciate you and your entire team for the stupendous work you are doing to further education and the support you have extended to the Swachh Bharat Mission. https://t.co/yIXcSCFSjn',\n",
       " 'Happy to see this. Congratulations to the people of Puducherry. https://t.co/1DWtjWxzUc',\n",
       " 'Commendable work! https://t.co/ctpuboU0VQ',\n",
       " 'Young India leading the way...brilliant! https://t.co/6FsldYwZXY',\n",
       " 'These are the people who have an indelible contribution in the making of a New India. I learn a lot when I interact with them. https://t.co/4zRPsF5fX6',\n",
       " 'Their work is deeply appreciated by 125 crore Indians. https://t.co/r6qDI5AKqm',\n",
       " 'Absolutely. https://t.co/FWnva5yqb7',\n",
       " 'RT @JPNadda: Indian healthcare is poised for a great leap forward with Ayushman Bharat – which will insure over 50 crore citizens: https://…',\n",
       " 'RT @arunjaitley: Sharing my article on Swachh Bharat Mission- a movement that is ending the practice of open defecation &amp; how it has change…',\n",
       " 'Anganwadi workers have a vital role in India’s development. During today’s interaction we spoke about aspects relating to nutrition, welfare of children and healthcare, among more issues. https://t.co/wT53TRvRpl',\n",
       " 'Had a delightful interaction with Anganwadi workers from all over India. They were extremely happy with the recent announcement of various incentives for their welfare. https://t.co/aYMkdh9SaS https://t.co/yumpNj2aF8',\n",
       " 'Held extensive talks with President @ashrafghani. We assessed the ground covered in India-Afghanistan relations. There were also deliberations on economic and cultural ties between our nations. https://t.co/CsKE5SLd1S https://t.co/0ZXCveIFlI',\n",
       " 'Excellent! More power to our Yuva Shakti, which is at the forefront of creating a Clean India. https://t.co/yB0trDnTDo',\n",
       " 'Wonderful effort in Jharkhand! https://t.co/TM52xiW31F',\n",
       " 'क्या बात है! आपके पुत्र को मेरी तरफ से बधाई और शुभकामनाएं। https://t.co/9RYSFzaeSs',\n",
       " 'Glad you feel so. https://t.co/mHLQdOV8oX',\n",
       " 'The affection of the people of Varanasi draws me there. Always a delight to visit. https://t.co/UvYcQZ6CIi',\n",
       " \"Yes indeed. Varanasi's development in the last four years has been commendable. \\n\\nIt has been extensive and covered all sections of society. https://t.co/8f7rSlzayC\",\n",
       " 'Touched by the gesture. Thank you and best wishes for your future endeavours. https://t.co/aCGBWdXhNT',\n",
       " 'RT @CMOfficeUP: Development in Varanasi touches new horizons. #BadaltaBanaras https://t.co/Bu3PkatIDP',\n",
       " \"RT @BJP4India: Explore exciting new features like 'New India Connect’, ‘Digital Volunteering’, ‘My Network’ and ‘Merchandise’ on Narendra M…\",\n",
       " 'RT @BJP4India: Always wanted to contribute towards ‘Nation Building’? Here is what you may do. Sign up to volunteer on the NaMo App. Downlo…',\n",
       " 'RT @BJP4India: Show the world what you stand for, wear your passion and inspire others. Get exclusive NaMo merchandise on the NaMo App. Dow…',\n",
       " 'During a programme earlier today, PM Sheikh Hasina and I, via video conference, unveiled the plaques marking the ground breaking of two important projects. These projects will add more vigour to India-Bangladesh ties. https://t.co/zAXAASGDxB',\n",
       " 'Some more pictures from Kashi. https://t.co/r3NomDurqo',\n",
       " 'Bringing a positive difference in the lives of our hardworking weavers and the handicrafts sector. https://t.co/aOlWr4baW0',\n",
       " 'काशी के कर्मठ किसानों और ग्रामीण अर्थव्यवस्था को गति देने का काम भी बीते चार वर्षों से तेज हुआ है। https://t.co/2srNlQITVK',\n",
       " 'BHU के आधारभूत ढांचे को और मजबूत किया जा रहा है, यह पंडित मदन मोहन मालवीय जी को सच्ची श्रद्धांजलि है। वेद के ज्ञान से लेकर 21वीं सदी के विज्ञान और भविष्य की टेक्नोलॉजी के समाधान देने वाले आयाम आज यहां जोड़े गए हैं। https://t.co/1rxt73bdU6',\n",
       " 'Kashi is emerging as a health hub. This augurs well for people living in nearby districts. https://t.co/CxTdilFAek',\n",
       " 'स्वच्छता के मामले में भी काशी ने परिवर्तन देखा है। \\n\\nआज यहां के घाटों, सड़कों और गलियों में स्वच्छता स्थायी रूप से देखी जा रही है। यह बहुत ही शुभ संकेत है। https://t.co/Jnczq8f9M8',\n",
       " 'With more tourists coming to Kashi, it is important to provide top quality infrastructure in the city and that is exactly what the Central Government and UP Government are doing. https://t.co/NY5vAcjtpg',\n",
       " 'चार वर्षों में काशी में आमूलचूल बदलाव हुए हैं। उदाहरण के लिए सड़कों का विस्तार हुआ है, जिससे कनेक्टिविटी सुधरी है और अनेक नागरिकों को फायदा हुआ है। https://t.co/2ZJGzAiW5p',\n",
       " 'काशी में जो भी बदलाव लाया जा रहा है, वह काशी को आधुनिक बनाएगा, साथ ही उसकी परंपराओं को भी संजोएगा। https://t.co/9nMPuUdley',\n",
       " 'Here are some pictures from the public meeting in Kashi, where various development projects were inaugurated. I spoke at length about the transformation in Kashi over the last 4 years in various sectors. https://t.co/rXgLmiWyRo https://t.co/seXVjaGnzK',\n",
       " 'Inaugurating key development projects in Kashi. Watch. https://t.co/0jFvIq0RTi',\n",
       " 'Visited the Manduadih Railway Station in Kashi. Here are some pictures. https://t.co/NY9WXiNVjG',\n",
       " 'Spent time with my young friends in Kashi. https://t.co/QKiRf9mrGc',\n",
       " 'Had a lively interaction with bright young minds at a school in Narur. Spoke to them about a wide range of subjects including the importance of sports and skill development. https://t.co/VbhUzCakmb',\n",
       " 'Thank you Anandiben Patel Ji. @anandibenpatel https://t.co/6rNUkCNkNO',\n",
       " 'आपकी भावपूर्ण शुभकामना के लिए बहुत-बहुत धन्यवाद @myogiadityanath जी। https://t.co/dsJYoyl7hE',\n",
       " 'Dr. Raman Singh Ji, gratitude for the wishes. \\n\\nCongratulations on the resounding success of the #AtalVikasYatra. Under your leadership, the development strides in Chhattisgarh are commendable. \\n\\nNo wonder the people of the state trust you tremendously. @drramansingh https://t.co/5woJTV42hZ',\n",
       " \"Thank you for the wishes. \\n\\nPeople from all walks of life are joining your Jan Ashirwad Yatra in large numbers. This shows the faith people of Madhya Pradesh have in you and your governance. Am sure you will continue to work with the same diligence and enthusiasm for MP's growth. https://t.co/bL5pIMC08W\",\n",
       " 'Thanks. You and your team have been providing wonderful leadership to Assam and I am sure the state will continue to grow even further in the times to come. @sarbanandsonwal https://t.co/RjKrAxrW8U',\n",
       " 'Thank you for the wishes. @PemaKhanduBJP https://t.co/JBFhpt4GuI',\n",
       " 'शुभकामनाओं के लिए आपका और समस्त त्रिपुरावासियों का आभार @BjpBiplab जी। माँ त्रिपुरसुंदरी के आशीर्वाद से त्रिपुरा और पूरा देश विकास की नई ऊंचाइयां प्राप्त करे, यही प्रार्थना है। https://t.co/rT7YhCrPZ8',\n",
       " 'Humbled by your wishes. Thank you Mr. Rio. @Neiphiu_Rio. https://t.co/kKySpOx5Lb',\n",
       " 'Thank you Pawan Chamling Ji. I look forward to being in Sikkim in the next few days. @pawanchamling5 https://t.co/FWywDl3TQH',\n",
       " 'Thank you for your greetings Rawat Ji. @tsrawatbjp https://t.co/E1F1Rk7MX9',\n",
       " 'आपकी भावपूर्ण शुभकामनाओं के लिए बहुत-बहुत धन्यवाद। @jairamthakurbjp https://t.co/FmoC06JiuY',\n",
       " 'Vijay Bhai, thank you for the greetings. @vijayrupanibjp https://t.co/RQB7Z4LQ5S',\n",
       " 'धन्यवाद @dasraghubar जी। शुभकामनाओं के लिए आपका और झारखंड की समस्त जनता का बहुत-बहुत आभार। https://t.co/rCJ0CorBoh',\n",
       " 'Thank you Manohar Lal Ji for the greetings. @mlkhattar https://t.co/MdR4q2mLdY',\n",
       " 'Gratitude for the good wishes Devendra Ji.\\n\\nMy best wishes to you and your team as you work towards the development of Maharashtra. @Dev_Fadnavis https://t.co/DDB7lE2Svx',\n",
       " 'I thank CM KCR Garu for the kind wishes. @TelanganaCMO https://t.co/OtHWtztXsH',\n",
       " 'Thank you for your wishes Kumaraswamy Ji. https://t.co/I4JHF0dpFe',\n",
       " 'I thank you Vasundhara Ji for the greetings. \\n\\nAm told the #RajasthanGauravYatra is getting a wonderful response across the state! https://t.co/oG1jg21kCb',\n",
       " 'Thank you @manoharparrikar Ji for the wishes. The entire nation is praying for your good health. https://t.co/8XwwPnDgD1',\n",
       " 'Har Har Mahadev! \\n\\nPrayed at the Kashi Vishwanath Temple today. \\n\\nFeeling very blessed. https://t.co/BxQTjYB3K8',\n",
       " 'Several people, from all walks of life have extended their greetings. I would like to thank each and every person who has wished me. Every wish and prayer is a source of great strength for me.',\n",
       " 'I would like to thank my ministerial colleagues for their wishes. It is wonderful to serve with each and every one of them. They are all vital contributors in the efforts to build a New India. I am proud of the entire team!',\n",
       " 'Gratitude to all the esteemed Chief Ministers for their greetings. We are all a part of the Team India, which will fulfil the aspirations of our youth and create an India that is peaceful, prosperous and progressive.',\n",
       " 'Touched by your kind words and the letter. Thank you for the greetings. https://t.co/ScwN6kNq6V',\n",
       " 'Appreciate the good wishes. Thanks a lot. https://t.co/KOMJcFbLDT',\n",
       " 'Manika, thank you for the greetings. My best wishes for your future endeavours. @manikabatra_TT https://t.co/ZcmPvCjzJc',\n",
       " 'Thank you Mr. Sangma for the wishes. @SangmaConrad https://t.co/EJqQhnqvxq',\n",
       " 'Thank you Sharad Ji. @SharadYadavMP https://t.co/XpbTw6odSo',\n",
       " 'Thank you Prime Minister Wickremesinghe for your wishes. @RW_UNP https://t.co/OwuHgfZjTu',\n",
       " 'Always a delight to hear from you, Mr. Karzai. Thank you for your greetings.\\xa0@KarzaiH https://t.co/O3NBkJOINr',\n",
       " 'Thank you, Mr. Rajapaksa. https://t.co/85xgYRDqWn',\n",
       " 'Thank you for your wishes Mr. Panda.\\xa0 @PandaJay https://t.co/NORjckRRPV',\n",
       " 'चिराग, शुभकामनाओं के लिए आपका बहुत-बहुत धन्यवाद। https://t.co/qSfleB1ZuA',\n",
       " 'Amma, if only words could do justice to how grateful I am for these wishes. \\n\\nYou have always been a constant source of strength and positivity not only in my life but also in the lives of millions of people. Thank you very much. @Amritanandamayi https://t.co/vOEPQ21jt3',\n",
       " 'Thank you for the wishes, President Sirisena. @MaithripalaS https://t.co/QQHWjCnurT',\n",
       " 'Thank you Karan Ji! I appreciate your good wishes. @karanjohar https://t.co/MAcoFuC02T',\n",
       " 'Thanks Vivek Ji. @vivekoberoi https://t.co/NZ2e6k9FgI',\n",
       " 'Gratitude for your greetings, Anil Kapoor Ji. @AnilKapoor https://t.co/2xqk0mqzYB',\n",
       " 'Thank you Shankar Ji. India moves ahead, non-stop in the pursuit of all-round peace, progress and prosperity. @Shankar_Live https://t.co/jKfpCJfQtE',\n",
       " 'Thanks for the wishes, Sachin Ji. @sachin_rt https://t.co/UmSLfan6m4',\n",
       " 'Thank you very much! @imVkohli https://t.co/yif1UvMMXg',\n",
       " 'Thank you for the special gesture. The manner in which you are highlighting several issues through sand art is commendable. Keep it up! @sudarsansand https://t.co/rq0zNckxy2']"
      ]
     },
     "execution_count": 18,
     "metadata": {},
     "output_type": "execute_result"
    }
   ],
   "source": [
    "tmp"
   ]
  },
  {
   "cell_type": "code",
   "execution_count": 21,
   "metadata": {},
   "outputs": [
    {
     "data": {
      "text/plain": [
       "'As a brand, Amul is both admired and respected not only in India but also internationally. \\n\\nIt is synonymous with quality, and has empowered several people associated with it. https://t.co/f5iCWCdZPJ'"
      ]
     },
     "execution_count": 21,
     "metadata": {},
     "output_type": "execute_result"
    }
   ],
   "source": [
    "tmp[4]"
   ]
  },
  {
   "cell_type": "code",
   "execution_count": 11,
   "metadata": {},
   "outputs": [],
   "source": [
    "#take 3 delegates and no of tweets\n",
    "if 'disease' in tmp[1]:\n",
    "    print('lol')"
   ]
  },
  {
   "cell_type": "code",
   "execution_count": 12,
   "metadata": {},
   "outputs": [],
   "source": [
    "from country_list import countries"
   ]
  },
  {
   "cell_type": "code",
   "execution_count": 22,
   "metadata": {},
   "outputs": [
    {
     "data": {
      "text/plain": [
       "{'india': 0, 'Afghanistan': 1, 'Bangladesh': 1, 'India': 50, 'Vietnam': 1}"
      ]
     },
     "execution_count": 22,
     "metadata": {},
     "output_type": "execute_result"
    }
   ],
   "source": [
    "ref_countries = {'india':0}\n",
    "for country in countries:\n",
    "    for tweet in tmp:\n",
    "        if country['name'] in tweet:\n",
    "            if country['name'] not in ref_countries:\n",
    "                ref_countries[country['name']] = 0\n",
    "            ref_countries[country['name']]+=1\n",
    "ref_countries"
   ]
  },
  {
   "cell_type": "code",
   "execution_count": null,
   "metadata": {},
   "outputs": [],
   "source": []
  },
  {
   "cell_type": "code",
   "execution_count": null,
   "metadata": {},
   "outputs": [],
   "source": []
  }
 ],
 "metadata": {
  "kernelspec": {
   "display_name": "Python 3",
   "language": "python",
   "name": "python3"
  },
  "language_info": {
   "codemirror_mode": {
    "name": "ipython",
    "version": 3
   },
   "file_extension": ".py",
   "mimetype": "text/x-python",
   "name": "python",
   "nbconvert_exporter": "python",
   "pygments_lexer": "ipython3",
   "version": "3.8.5"
  }
 },
 "nbformat": 4,
 "nbformat_minor": 2
}
