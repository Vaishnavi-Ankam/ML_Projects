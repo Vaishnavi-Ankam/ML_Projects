{
 "cells": [
  {
   "cell_type": "code",
   "execution_count": 2,
   "metadata": {},
   "outputs": [],
   "source": [
    "from tweepy.streaming import Stream\n",
    "from tweepy import OAuthHandler\n",
    "from tweepy import Stream\n",
    "import tweepy"
   ]
  },
  {
   "cell_type": "code",
   "execution_count": 3,
   "metadata": {},
   "outputs": [],
   "source": [
    "access_token=\"\"\n",
    "access_token_secret = \"\"\n",
    "consumer_key=\"\"\n",
    "consumer_secret=\"\""
   ]
  },
  {
   "cell_type": "code",
   "execution_count": 7,
   "metadata": {},
   "outputs": [],
   "source": [
    "class StdoutListener(Stream):\n",
    "    def on_data(self,data):\n",
    "        print(data)\n",
    "    def on_error(self,status):\n",
    "        print(status)"
   ]
  },
  {
   "cell_type": "code",
   "execution_count": 8,
   "metadata": {},
   "outputs": [
    {
     "ename": "TypeError",
     "evalue": "__init__() missing 4 required positional arguments: 'consumer_key', 'consumer_secret', 'access_token', and 'access_token_secret'",
     "output_type": "error",
     "traceback": [
      "\u001b[0;31m---------------------------------------------------------------------------\u001b[0m",
      "\u001b[0;31mTypeError\u001b[0m                                 Traceback (most recent call last)",
      "\u001b[0;32m<ipython-input-8-ecce5111c5c2>\u001b[0m in \u001b[0;36m<module>\u001b[0;34m\u001b[0m\n\u001b[1;32m      1\u001b[0m \u001b[0;32mif\u001b[0m \u001b[0m__name__\u001b[0m\u001b[0;34m==\u001b[0m\u001b[0;34m'__main__'\u001b[0m\u001b[0;34m:\u001b[0m\u001b[0;34m\u001b[0m\u001b[0;34m\u001b[0m\u001b[0m\n\u001b[1;32m      2\u001b[0m \u001b[0;31m#this handles Twitter verification and the connection to Twitter\u001b[0m\u001b[0;34m\u001b[0m\u001b[0;34m\u001b[0m\u001b[0;34m\u001b[0m\u001b[0m\n\u001b[0;32m----> 3\u001b[0;31m     \u001b[0ml\u001b[0m\u001b[0;34m=\u001b[0m\u001b[0mStdoutListener\u001b[0m\u001b[0;34m(\u001b[0m\u001b[0;34m)\u001b[0m\u001b[0;34m\u001b[0m\u001b[0;34m\u001b[0m\u001b[0m\n\u001b[0m\u001b[1;32m      4\u001b[0m     \u001b[0mauth\u001b[0m\u001b[0;34m=\u001b[0m\u001b[0mOAuthHandler\u001b[0m\u001b[0;34m(\u001b[0m\u001b[0mconsumer_key\u001b[0m\u001b[0;34m,\u001b[0m\u001b[0mconsumer_secret\u001b[0m\u001b[0;34m)\u001b[0m\u001b[0;34m\u001b[0m\u001b[0;34m\u001b[0m\u001b[0m\n\u001b[1;32m      5\u001b[0m     \u001b[0mauth\u001b[0m\u001b[0;34m.\u001b[0m\u001b[0mset_access_token\u001b[0m\u001b[0;34m(\u001b[0m\u001b[0maccess_token\u001b[0m\u001b[0;34m,\u001b[0m\u001b[0maccess_token_secret\u001b[0m\u001b[0;34m)\u001b[0m\u001b[0;34m\u001b[0m\u001b[0;34m\u001b[0m\u001b[0m\n",
      "\u001b[0;31mTypeError\u001b[0m: __init__() missing 4 required positional arguments: 'consumer_key', 'consumer_secret', 'access_token', and 'access_token_secret'"
     ]
    }
   ],
   "source": [
    "if __name__=='__main__':\n",
    "#this handles Twitter verification and the connection to Twitter\n",
    "    l=StdoutListener()\n",
    "    auth=OAuthHandler(consumer_key,consumer_secret)\n",
    "    auth.set_access_token(access_token,access_token_secret)\n",
    "    stream=Stream(auth,1)\n",
    "    api=tweepy.API(auth)"
   ]
  },
  {
   "cell_type": "code",
   "execution_count": 33,
   "metadata": {},
   "outputs": [
    {
     "name": "stdout",
     "output_type": "stream",
     "text": [
      "Name:gaurav agrawal\n",
      "Location\n",
      "Friends:16\n",
      "Favourites_Count6\n",
      "No of tweet count7\n"
     ]
    }
   ],
   "source": [
    "user=api.me()\n",
    "print('Name:'+user.name)\n",
    "\n",
    "print('Location'+user.location)\n",
    "print('Friends:'+str(user.friends_count))\n",
    "print('Favourites_Count'+str(user.favourites_count))\n",
    "print('No of tweet count'+str(user.statuses_count))\n"
   ]
  },
  {
   "cell_type": "code",
   "execution_count": 45,
   "metadata": {},
   "outputs": [],
   "source": [
    "number_of_tweets=2000\n",
    "tweets=api.user_timeline(screen_name='realDonaldTrump',count=10)\n",
    "dataset=[]\n",
    "for tweet in tweets:\n",
    "    dataset.append(tweet.created_at)\n",
    "tmp=[]\n",
    "tweets_for_csv = [tweet.text for tweet in tweets]\n",
    "for j in tweets_for_csv:\n",
    "    tmp.append(j)"
   ]
  },
  {
   "cell_type": "code",
   "execution_count": 46,
   "metadata": {},
   "outputs": [
    {
     "name": "stdout",
     "output_type": "stream",
     "text": [
      "['Why didn’t President Obama do something about the so-called Russian Meddling when he was told about it by the FBI b… https://t.co/DN4mqIfPm9', 'Our United States team has arrived in North Korea to make arrangements for the Summit between Kim Jong Un and mysel… https://t.co/m8XL0g7BgQ', 'Why didn’t the 13 Angry Democrats investigate the campaign of Crooked Hillary Clinton, many crimes, much Collusion… https://t.co/81l70BLUTy', 'Fantastic to have 400,000 GREAT MEN &amp; WOMEN of Rolling Thunder in D.C. showing their patriotism. They love our Coun… https://t.co/0nu9p8znvV', 'Who’s going to give back the young and beautiful lives (and others) that have been devastated and destroyed by the… https://t.co/Q5v532Pn9X', 'WELCOME HOME JOSH! https://t.co/2X0cKE4stx', 'When will the 13 Angry Democrats (&amp; those who worked for President O), reveal their disqualifying Conflicts of Inte… https://t.co/2X58MqnBH6', 'This whole Russia Probe is Rigged. Just an excuse as to why the Dems and Crooked Hillary lost the Election and Stat… https://t.co/VctDHQf9VQ', 'With Spies, or “Informants” as the Democrats like to call them because it sounds less sinister (but it’s not), all… https://t.co/D3WSweqmUB', 'The Failing @nytimes quotes “a senior White House official,” who doesn’t exist, as saying “even if the meeting were… https://t.co/ics8UcYr96']\n"
     ]
    }
   ],
   "source": [
    "print(tmp)"
   ]
  },
  {
   "cell_type": "code",
   "execution_count": 47,
   "metadata": {},
   "outputs": [
    {
     "ename": "SyntaxError",
     "evalue": "invalid syntax (<ipython-input-47-f55d79ae9e3a>, line 1)",
     "output_type": "error",
     "traceback": [
      "\u001b[1;36m  File \u001b[1;32m\"<ipython-input-47-f55d79ae9e3a>\"\u001b[1;36m, line \u001b[1;32m1\u001b[0m\n\u001b[1;33m    api.update_status (**status** = 'Updating using OAuth authentication via Tweepy!')\u001b[0m\n\u001b[1;37m                                  ^\u001b[0m\n\u001b[1;31mSyntaxError\u001b[0m\u001b[1;31m:\u001b[0m invalid syntax\n"
     ]
    }
   ],
   "source": [
    "api.update_status (**status** = 'Updating using OAuth authentication via Tweepy!')"
   ]
  },
  {
   "cell_type": "code",
   "execution_count": null,
   "metadata": {},
   "outputs": [],
   "source": []
  }
 ],
 "metadata": {
  "kernelspec": {
   "display_name": "Python 3",
   "language": "python",
   "name": "python3"
  },
  "language_info": {
   "codemirror_mode": {
    "name": "ipython",
    "version": 3
   },
   "file_extension": ".py",
   "mimetype": "text/x-python",
   "name": "python",
   "nbconvert_exporter": "python",
   "pygments_lexer": "ipython3",
   "version": "3.8.5"
  }
 },
 "nbformat": 4,
 "nbformat_minor": 2
}
