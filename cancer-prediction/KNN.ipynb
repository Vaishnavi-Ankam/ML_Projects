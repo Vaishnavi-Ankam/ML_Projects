{
 "cells": [
  {
   "cell_type": "code",
   "execution_count": 1,
   "metadata": {},
   "outputs": [],
   "source": [
    "import numpy as np\n",
    "import matplotlib.pyplot as plt\n",
    "from matplotlib import style\n",
    "import warnings\n",
    "from math import sqrt\n",
    "from collections import Counter\n",
    "style.use('fivethirtyeight')"
   ]
  },
  {
   "cell_type": "markdown",
   "metadata": {},
   "source": [
    "## INPUT DATA"
   ]
  },
  {
   "cell_type": "code",
   "execution_count": 16,
   "metadata": {},
   "outputs": [],
   "source": [
    "dataset = {'k':[[1,2],[2,3],[3,1]], 'r':[[6,5],[7,7],[8,6]]}\n",
    "\n",
    "query_input = [5,7]"
   ]
  },
  {
   "cell_type": "markdown",
   "metadata": {},
   "source": [
    "## PLOTTING OF DATA SET"
   ]
  },
  {
   "cell_type": "code",
   "execution_count": 17,
   "metadata": {},
   "outputs": [
    {
     "data": {
      "image/png": "[encoded data removed]",
      "text/plain": [
       "<Figure size 432x288 with 1 Axes>"
      ]
     },
     "metadata": {},
     "output_type": "display_data"
    }
   ],
   "source": [
    "for i in dataset:\n",
    "    \n",
    "    for j in dataset[i]:\n",
    "        \n",
    "        plt.scatter(j[0],j[1],s=100,color=i)"
   ]
  },
  {
   "cell_type": "markdown",
   "metadata": {},
   "source": [
    "## PLOTTING OF INPUT QUERY POINT IN DATA SET ( AS BLUE)"
   ]
  },
  {
   "cell_type": "code",
   "execution_count": 18,
   "metadata": {},
   "outputs": [
    {
     "data": {
      "image/png": "[encoded data removed]",
      "text/plain": [
       "<Figure size 432x288 with 1 Axes>"
      ]
     },
     "metadata": {},
     "output_type": "display_data"
    }
   ],
   "source": [
    "plt.xlabel('X')\n",
    "\n",
    "plt.ylabel('Y')\n",
    "\n",
    "for i in dataset:\n",
    "    \n",
    "    for j in dataset[i]:\n",
    "        \n",
    "        plt.scatter(j[0],j[1],s=100,color=i)\n",
    "        \n",
    "plt.scatter(query_input[0], query_input[1], s=100)\n",
    "\n",
    "plt.show()"
   ]
  },
  {
   "cell_type": "markdown",
   "metadata": {},
   "source": [
    "## PREDICT INPUT DATA METHOD"
   ]
  },
  {
   "cell_type": "code",
   "execution_count": 47,
   "metadata": {},
   "outputs": [],
   "source": [
    "def Query_nearest_neighbors(data, predict, k):\n",
    "    \n",
    "    if len(data) >= k:\n",
    "        \n",
    "        warnings.warn('K is set to a value less than total voting groups!')\n",
    "        \n",
    "    distances = []\n",
    "    \n",
    "    for group in data:\n",
    "        \n",
    "        for features in data[group]:\n",
    "            \n",
    "            euclidean_distance = np.linalg.norm(np.array(features)-np.array(predict))\n",
    "            \n",
    "            distances.append([euclidean_distance,group])\n",
    "            \n",
    "    \n",
    "    votes = [i[1] for i in sorted(distances)[:k]]\n",
    "    \n",
    "    #print(votes)\n",
    "    \n",
    "    print('\\n\\nNumber of votes received from each group are : ',Counter(votes))\n",
    "    \n",
    "    vote_result = Counter(votes).most_common(1)[0][0]\n",
    "    \n",
    "    return vote_result"
   ]
  },
  {
   "cell_type": "markdown",
   "metadata": {},
   "source": [
    "## MAIN METHOD"
   ]
  },
  {
   "cell_type": "code",
   "execution_count": 48,
   "metadata": {},
   "outputs": [
    {
     "name": "stdout",
     "output_type": "stream",
     "text": [
      "\n",
      "\n",
      "Number of votes received from each group are :  Counter({'r': 3})\n",
      "\n",
      "\n",
      "Query Input point belongs to group :  r\n",
      "\n",
      "\n"
     ]
    },
    {
     "data": {
      "image/png": "[encoded data removed]",
      "text/plain": [
       "<Figure size 432x288 with 1 Axes>"
      ]
     },
     "metadata": {},
     "output_type": "display_data"
    }
   ],
   "source": [
    "dataset = {'k':[[1,2],[2,3],[3,1]], 'r':[[6,5],[7,7],[8,6]]}\n",
    "\n",
    "query_input = [8,8]\n",
    "\n",
    "[[plt.scatter(j[0],j[1],s=100,color=i) for j in dataset[i]] for i in dataset]\n",
    "        \n",
    "plt.scatter(query_input[0], query_input[1], s=100)\n",
    "\n",
    "result = Query_nearest_neighbors(dataset, query_input,3)\n",
    "\n",
    "print('\\n\\nQuery Input point belongs to group : ',result)\n",
    "\n",
    "print('\\n')\n",
    "\n",
    "plt.scatter(query_input[0], query_input[1], s=100, color = result)  \n",
    "\n",
    "plt.show()"
   ]
  },
  {
   "cell_type": "code",
   "execution_count": null,
   "metadata": {},
   "outputs": [],
   "source": []
  }
 ],
 "metadata": {
  "kernelspec": {
   "display_name": "Python 3",
   "language": "python",
   "name": "python3"
  },
  "language_info": {
   "codemirror_mode": {
    "name": "ipython",
    "version": 3
   },
   "file_extension": ".py",
   "mimetype": "text/x-python",
   "name": "python",
   "nbconvert_exporter": "python",
   "pygments_lexer": "ipython3",
   "version": "3.8.5"
  }
 },
 "nbformat": 4,
 "nbformat_minor": 2
}
